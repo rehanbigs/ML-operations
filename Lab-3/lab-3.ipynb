{
 "cells": [
  {
   "cell_type": "markdown",
   "metadata": {},
   "source": [
    "# Evaluating Your Understanding of Neural Networks\n",
    "\n",
    "Welcome to your Lab 3! \n",
    "\n",
    "In todays lab, we will assess your understanding through a series of coding exercises similar to those covered in previous labs. This session is designed to test your grasp of key concepts and evaluate how well you've absorbed the material from earlier exercises. Approach each question thoughtfully and apply what you've learned to solve them effectively!\n",
    "\n",
    "Let's get started!"
   ]
  },
  {
   "cell_type": "markdown",
   "metadata": {},
   "source": [
    "## Packages\n",
    "\n",
    "Let's first import all the packages that you will need during this assignment. \n",
    "- [numpy](www.numpy.org) is the main package for scientific computing with Python.\n",
    "- [matplotlib](http://matplotlib.org) is a library to plot graphs in Python.\n",
    "- np.random.seed(1) is used to keep all the random function calls consistent. It will help us grade your work. Please don't change the seed. "
   ]
  },
  {
   "cell_type": "code",
   "execution_count": 1,
   "metadata": {},
   "outputs": [],
   "source": [
    "import numpy as np\n",
    "import matplotlib.pyplot as plt\n",
    "from test_cases import *\n",
    "\n",
    "np.random.seed(1)"
   ]
  },
  {
   "cell_type": "markdown",
   "metadata": {},
   "source": [
    "### Question 1: Initialize Parameters for a 3-Layer Neural Network\n",
    "**Task:** Implement initialize_parameters_deep(layer_dims) to initialize parameters for a 3-layer neural network.\n"
   ]
  },
  {
   "cell_type": "code",
   "execution_count": 17,
   "metadata": {},
   "outputs": [],
   "source": [
    "def initialize_parameters_deep(layer_dims):\n",
    "\n",
    "    \"\"\"\n",
    "    Initializes parameters for a deep neural network.\n",
    "    \n",
    "    Args:\n",
    "        layer_dims (list): List containing the dimensions of each layer in the network.\n",
    "    \n",
    "    Returns:\n",
    "        dict: Dictionary containing initialized weights and biases for each layer.\n",
    "              Keys should be stored as 'W1', 'W2', ..., 'WL' and 'b1', 'b2', ..., 'bL'.\n",
    "    \"\"\"\n",
    "\n",
    "    ### START CODE HERE ###\n",
    "    parameters={}\n",
    "    for i in range(0,len(layer_dims)-1):\n",
    "        parameters[\"W\"+str(i+1)]=np.random.randn(layer_dims[i+1],layer_dims[i])\n",
    "        parameters[\"b\"+str(i+1)]=np.zeros((1,layer_dims[i]))\n",
    "        \n",
    "    ### END CODE HERE ###\n",
    "\n",
    "    return parameters"
   ]
  },
  {
   "cell_type": "code",
   "execution_count": 18,
   "metadata": {},
   "outputs": [
    {
     "name": "stdout",
     "output_type": "stream",
     "text": [
      "Test passed!\n"
     ]
    }
   ],
   "source": [
    "test_initialize_parameters_deep(initialize_parameters_deep)"
   ]
  },
  {
   "cell_type": "markdown",
   "metadata": {},
   "source": [
    "### Question 2: Normalize a NumPy Array\n",
    "**Task:** Implement a function that normalizes a given NumPy array (scales values between 0 and 1).\n"
   ]
  },
  {
   "cell_type": "code",
   "execution_count": 21,
   "metadata": {},
   "outputs": [],
   "source": [
    "def normalize_array(arr):\n",
    "    \"\"\"\n",
    "    Normalizes an array to have values between 0 and 1.\n",
    "\n",
    "    Args:\n",
    "        arr (numpy.ndarray): Input array.\n",
    "\n",
    "    Returns:\n",
    "        norm_arr: Normalized array with values in the range [0, 1].\n",
    "    \"\"\"\n",
    "\n",
    "    ### START CODE HERE ### \n",
    "    min=np.min(arr)\n",
    "    max=np.max(arr)\n",
    "    \n",
    "    std_dev=np.std(arr)\n",
    "    norm_arr=(arr)/np.sqrt(np.sum(arr**2))\n",
    "    ### END CODE HERE ###\n",
    "\n",
    "    return norm_arr"
   ]
  },
  {
   "cell_type": "code",
   "execution_count": 22,
   "metadata": {},
   "outputs": [
    {
     "name": "stdout",
     "output_type": "stream",
     "text": [
      "Test passed!\n"
     ]
    }
   ],
   "source": [
    "test_normalize_array(normalize_array)"
   ]
  },
  {
   "cell_type": "markdown",
   "metadata": {},
   "source": [
    "### Question 3: Compute the Leaky ReLU Function\n",
    "**Task:** Write a Python function to compute the leaky ReLU function for a given input value."
   ]
  },
  {
   "cell_type": "code",
   "execution_count": 23,
   "metadata": {},
   "outputs": [],
   "source": [
    "def leaky_relu(Z, alpha=0.01):\n",
    "    \"\"\"\n",
    "    Implements the Leaky ReLU activation function.\n",
    "\n",
    "    Args:\n",
    "        Z (numpy.ndarray): Input array.\n",
    "        alpha (float): Slope for negative values (default is 0.01).\n",
    "    \n",
    "    Returns:\n",
    "        numpy.ndarray: Output after applying Leaky ReLU.\n",
    "    \"\"\"\n",
    "    ### START CODE HERE ###\n",
    "    leaky_relu=np.where(Z>=0,Z,Z*0.01)\n",
    "    \n",
    "    ### END CODE HERE ###\n",
    "\n",
    "    return leaky_relu"
   ]
  },
  {
   "cell_type": "code",
   "execution_count": 24,
   "metadata": {},
   "outputs": [
    {
     "name": "stdout",
     "output_type": "stream",
     "text": [
      "Test passed!\n"
     ]
    }
   ],
   "source": [
    "test_leaky_relu(leaky_relu)"
   ]
  },
  {
   "cell_type": "markdown",
   "metadata": {},
   "source": [
    "\n",
    "### Question 4: Compute Forward Propagation with Activation\n",
    "**Task:** Implement linear_activation_forward(A_prev, W, b, activation) with ReLU/Sigmoid activation."
   ]
  },
  {
   "cell_type": "code",
   "execution_count": 29,
   "metadata": {},
   "outputs": [],
   "source": [
    "def linear_activation_forward(A_prev, W, b, activation):\n",
    "    \"\"\"\n",
    "    Implements the forward propagation for a single layer with a specified activation function.\n",
    "\n",
    "    Args:\n",
    "        A_prev (numpy.ndarray): Activations from the previous layer (shape: (size of previous layer, number of examples)).\n",
    "        W (numpy.ndarray): Weights matrix for the current layer (shape: (size of current layer, size of previous layer)).\n",
    "        b (numpy.ndarray): Bias vector for the current layer (shape: (size of current layer, 1)).\n",
    "        activation (str): Activation function to use (\"relu\" or \"sigmoid\").\n",
    "\n",
    "    Returns:\n",
    "        tuple:\n",
    "            - A (numpy.ndarray): Output of the activation function (shape: (size of current layer, number of examples)).\n",
    "            - Z (numpy.ndarray): Linear transformation output before applying activation (shape: same as A).\n",
    "    \"\"\"\n",
    "\n",
    "    ### START CODE HERE ### \n",
    "    Z=np.dot(W,A_prev)\n",
    "    A=leaky_relu(Z)\n",
    "    ### END CODE HERE ###\n",
    "\n",
    "    return A, Z"
   ]
  },
  {
   "cell_type": "code",
   "execution_count": 30,
   "metadata": {},
   "outputs": [
    {
     "name": "stdout",
     "output_type": "stream",
     "text": [
      "Test passed!\n"
     ]
    }
   ],
   "source": [
    "test_linear_activation_forward(linear_activation_forward)"
   ]
  },
  {
   "cell_type": "markdown",
   "metadata": {},
   "source": [
    "### Question 5: Implement One Iteration of Gradient Descent\n",
    "**Task:** Create a function that implements a simple version of gradient descent. For a parameter $\\theta$, the update rule is $ \\theta = \\theta - \\alpha \\text{ } d\\theta$, where $\\alpha$ is the learning rate."
   ]
  },
  {
   "cell_type": "code",
   "execution_count": 35,
   "metadata": {},
   "outputs": [],
   "source": [
    "def gradient_descent(w, grad, learning_rate=0.01):\n",
    "    \"\"\"\n",
    "    Performs one iteration of gradient descent to update weights.\n",
    "\n",
    "    Args:\n",
    "        w (numpy.ndarray): Current weight parameters (vector or matrix).\n",
    "        grad (numpy.ndarray): Gradient of the loss function w.r.t weights.\n",
    "        learning_rate (float, optional): Step size for weight update. Default is 0.01.\n",
    "\n",
    "    Returns:\n",
    "        w_new: Updated weight parameters after gradient step.\n",
    "    \"\"\"\n",
    "\n",
    "    ### START CODE HERE ### \n",
    "    w_new=np.subtract(w,np.multiply(grad,learning_rate))\n",
    "    ### END CODE HERE ###\n",
    "\n",
    "    return w_new"
   ]
  },
  {
   "cell_type": "code",
   "execution_count": 36,
   "metadata": {},
   "outputs": [
    {
     "name": "stdout",
     "output_type": "stream",
     "text": [
      "Test passed!\n"
     ]
    }
   ],
   "source": [
    "test_gradient_descent(gradient_descent)"
   ]
  },
  {
   "cell_type": "markdown",
   "metadata": {},
   "source": [
    "### Question 6: Compute Logistic Regression Cost Function\n",
    "**Task:** Write a function to compute the binary cross-entropy for logistic regression."
   ]
  },
  {
   "cell_type": "code",
   "execution_count": 39,
   "metadata": {},
   "outputs": [],
   "source": [
    "def logistic_cost(y_true, y_pred): \n",
    "\n",
    "    \"\"\"\n",
    "    Computes the logistic (binary cross-entropy) cost function.\n",
    "\n",
    "    Args:\n",
    "        y_true (numpy.ndarray): True binary labels (shape: m,).\n",
    "        y_pred (numpy.ndarray): Predicted probabilities (shape: m,).\n",
    "\n",
    "    Returns:\n",
    "        float: The computed logistic cost.\n",
    "    \"\"\"\n",
    "\n",
    "    ### START CODE HERE ### \n",
    "    cost=-np.mean(np.multiply(y_true,np.log(y_pred))+np.multiply(1-y_true,np.log(1-y_pred)))\n",
    "    ### END CODE HERE ###\n",
    "\n",
    "    return cost"
   ]
  },
  {
   "cell_type": "code",
   "execution_count": 40,
   "metadata": {},
   "outputs": [
    {
     "name": "stdout",
     "output_type": "stream",
     "text": [
      "Test passed!\n"
     ]
    }
   ],
   "source": [
    "test_logistic_cost(logistic_cost)"
   ]
  },
  {
   "cell_type": "markdown",
   "metadata": {},
   "source": [
    "### Question 7: Perform Element-wise Multiplication\n",
    "**Task:** Implement a Python function to perform element-wise multiplication of two NumPy arrays."
   ]
  },
  {
   "cell_type": "code",
   "execution_count": 41,
   "metadata": {},
   "outputs": [],
   "source": [
    "def elementwise_multiply(arr1, arr2):\n",
    "    \"\"\"\n",
    "    Performs element-wise multiplication of two NumPy arrays.\n",
    "\n",
    "    Args:\n",
    "        arr1 (numpy.ndarray): First input array.\n",
    "        arr2 (numpy.ndarray): Second input array of the same shape as arr1.\n",
    "\n",
    "    Returns:\n",
    "        mul: The element-wise product of arr1 and arr2.\n",
    "    \"\"\"\n",
    "\n",
    "    ### START CODE HERE ###\n",
    "    mul=np.multiply(arr1,arr2)\n",
    "    ### END CODE HERE ###\n",
    "\n",
    "    return mul"
   ]
  },
  {
   "cell_type": "code",
   "execution_count": 42,
   "metadata": {},
   "outputs": [
    {
     "name": "stdout",
     "output_type": "stream",
     "text": [
      "Test passed!\n"
     ]
    }
   ],
   "source": [
    "test_elementwise_multiply(elementwise_multiply)"
   ]
  },
  {
   "cell_type": "markdown",
   "metadata": {},
   "source": [
    "### Question 8: Plot a Decision Boundary\n",
    "**Task:** Given a dataset with two features, plot a decision boundary for a logistic regression model."
   ]
  },
  {
   "cell_type": "code",
   "execution_count": 50,
   "metadata": {},
   "outputs": [],
   "source": [
    "def plot_decision_boundary(X, y):\n",
    "\n",
    "    \"\"\"\n",
    "    Plots the decision boundary for a classification dataset.\n",
    "\n",
    "    Args:\n",
    "        X (numpy.ndarray): Feature matrix of shape (m, 2), where m is the number of data points.\n",
    "        y (numpy.ndarray): Label vector of shape (m,), containing class labels (0 or 1).\n",
    "\n",
    "    Returns:\n",
    "        matplotlib.figure.Figure: The figure object containing the plot.\n",
    "    \"\"\"\n",
    "\n",
    "    ### START CODE HERE ###\n",
    "    fig,ax=plt.subplots()\n",
    "    ax.scatter(X[:, 0], X[:, 1], c=y, cmap=plt.cm.RdYlBu, edgecolors='k')\n",
    "    ### END CODE HERE ###\n",
    "    \n",
    "    return plt.gcf() "
   ]
  },
  {
   "cell_type": "code",
   "execution_count": 51,
   "metadata": {},
   "outputs": [
    {
     "name": "stdout",
     "output_type": "stream",
     "text": [
      "Test passed!\n"
     ]
    },
    {
     "data": {
      "image/png": "[encoded data removed]",
      "text/plain": [
       "<Figure size 640x480 with 1 Axes>"
      ]
     },
     "metadata": {},
     "output_type": "display_data"
    }
   ],
   "source": [
    "test_plot_decision_boundary(plot_decision_boundary)"
   ]
  },
  {
   "cell_type": "markdown",
   "metadata": {},
   "source": [
    "### Question 9: Generate Identity Matrix\n",
    "**Task:** Write a Python function that generates a 5x5 identity matrix using NumPy."
   ]
  },
  {
   "cell_type": "code",
   "execution_count": 44,
   "metadata": {},
   "outputs": [],
   "source": [
    "def identity_matrix():\n",
    "\n",
    "    \"\"\"\n",
    "    Generates a 5x5 identity matrix.\n",
    "\n",
    "    An identity matrix is a square matrix with ones on the main diagonal and zeros elsewhere.\n",
    "\n",
    "    Returns:\n",
    "        numpy.ndarray: A 5x5 identity matrix.\n",
    "    \"\"\"\n",
    "        \n",
    "    ### START CODE HERE ### \n",
    "    identitymatrix=np.identity(5)\n",
    "    ### END CODE HERE ###\n",
    "\n",
    "    return identitymatrix"
   ]
  },
  {
   "cell_type": "code",
   "execution_count": 45,
   "metadata": {},
   "outputs": [
    {
     "name": "stdout",
     "output_type": "stream",
     "text": [
      "Test passed!\n"
     ]
    }
   ],
   "source": [
    "test_identity_matrix(identity_matrix)"
   ]
  },
  {
   "cell_type": "markdown",
   "metadata": {},
   "source": [
    "### Question 10: Compute Dot Product\n",
    "**Task:** Implement a function to compute the dot product of two matrices using NumPy."
   ]
  },
  {
   "cell_type": "code",
   "execution_count": 48,
   "metadata": {},
   "outputs": [],
   "source": [
    "def dot_product(mat1, mat2):\n",
    "    \"\"\"\n",
    "    Computes the dot product of two matrices.\n",
    "\n",
    "    The dot product (matrix multiplication) is performed using NumPy's `dot()` function, \n",
    "    which follows the standard matrix multiplication rules.\n",
    "\n",
    "    Args:\n",
    "        mat1 (numpy.ndarray): First input matrix.\n",
    "        mat2 (numpy.ndarray): Second input matrix.\n",
    "\n",
    "    Returns:\n",
    "        numpy.ndarray: The resulting matrix after performing the dot product.\n",
    "    \"\"\"\n",
    "    \n",
    "    ### START CODE HERE ### \n",
    "    dotproduct=np.dot(mat1,mat2)\n",
    "    ### END CODE HERE ###\n",
    "\n",
    "    return dotproduct"
   ]
  },
  {
   "cell_type": "code",
   "execution_count": 49,
   "metadata": {},
   "outputs": [
    {
     "name": "stdout",
     "output_type": "stream",
     "text": [
      "Test passed!\n"
     ]
    }
   ],
   "source": [
    "test_dot_product(dot_product)"
   ]
  }
 ],
 "metadata": {
  "kernelspec": {
   "display_name": "Python 3",
   "language": "python",
   "name": "python3"
  },
  "language_info": {
   "codemirror_mode": {
    "name": "ipython",
    "version": 3
   },
   "file_extension": ".py",
   "mimetype": "text/x-python",
   "name": "python",
   "nbconvert_exporter": "python",
   "pygments_lexer": "ipython3",
   "version": "3.10.12"
  }
 },
 "nbformat": 4,
 "nbformat_minor": 2
}
